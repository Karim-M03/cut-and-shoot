{
 "cells": [
  {
   "cell_type": "markdown",
   "metadata": {},
   "source": [
    "# STEP 0\n",
    "## Implementazione del MIP Cut Searcher"
   ]
  },
  {
   "cell_type": "markdown",
   "metadata": {},
   "source": [
    "## Definizione dei parametri in input\n",
    "- Circuito quantistico -> rappresentato come DAG\n",
    "- Massimo numero di qbit per sottocircuito = dimensione dei QPU disponibili\n",
    "- Massimo numero di sottocircuito"
   ]
  },
  {
   "cell_type": "code",
   "execution_count": 21,
   "metadata": {},
   "outputs": [],
   "source": [
    "# definizione degli archi del grafo\n",
    "edges = [\n",
    "    (0, 1), (1, 2),\n",
    "    (2, 3), (3, 4),\n",
    "    (4, 5), (5, 6),\n",
    "    (6, 7), (7, 8),\n",
    "    (8, 9),\n",
    "]\n",
    "\n",
    "# insieme dei vertici dal grafo\n",
    "vertices = set()\n",
    "for edge in edges:\n",
    "    vertices.update(edge)\n",
    "\n",
    "max_qubits_per_subcircuit = 4  # numero massimo di qubit per sottocircuito\n",
    "num_subcircuits = 3  # numero massimo di sottocircuiti\n",
    "\n",
    "# definizione dei pesi dei vertici (numero di qubit necessari per ogni vertice)\n",
    "vertex_weights = {v: 1 for v in vertices} # 1 per test"
   ]
  },
  {
   "cell_type": "markdown",
   "metadata": {},
   "source": [
    "## Definizione delle Variabili del problema"
   ]
  },
  {
   "cell_type": "code",
   "execution_count": 22,
   "metadata": {},
   "outputs": [],
   "source": [
    "import pulp\n",
    "\n",
    "# definizione del problema\n",
    "problem = pulp.LpProblem(\"CircuitCutter\", pulp.LpMinimize)\n",
    "\n",
    "subcircuits = range(num_subcircuits)  # Indici dei sottocircuiti\n",
    "\n",
    "# y[v,c]: indica se il gate v appartiene al sottocircuito c\n",
    "y = pulp.LpVariable.dicts(\"y\", [(v, c) for v in vertices for c in subcircuits], cat=\"Binary\")\n",
    "\n",
    "# x[e,c]: indica se l'arco e è tagliato dal sottocircuito c\n",
    "x = pulp.LpVariable.dicts(\"x\", [(e, c) for e in edges for c in subcircuits], cat=\"Binary\")\n",
    "\n",
    "# a[c]: somma di qubit originali in input per il sottocircuito c\n",
    "a = pulp.LpVariable.dicts(\"a\", subcircuits, cat=\"Integer\")\n",
    "\n",
    "# p[c]: somma di qubit di inizializzazione per il sottocircuito c\n",
    "p = pulp.LpVariable.dicts(\"p\", subcircuits, cat=\"Integer\")\n",
    "\n",
    "# o[c]: numero di qubit misurati per il sottocircuito c\n",
    "o = pulp.LpVariable.dicts(\"o\", subcircuits, cat=\"Integer\")\n",
    "\n",
    "# f[c]: numero di qubit del sottocircuito c che contribuiscono alla misura finale dell'intero circuito\n",
    "f = pulp.LpVariable.dicts(\"f\", subcircuits, cat=\"Integer\")\n",
    "\n",
    "# d[c]: totale dei qubit del sottocircuito c, calcolato come a[c] + p[c]\n",
    "d = pulp.LpVariable.dicts(\"d\", subcircuits, cat=\"Integer\")\n",
    "\n",
    "# variabili ausiliarie per linearizzare i prodotti\n",
    "# z_p[e,  c]: variabile binaria per il prodotto relativo a p[c]\n",
    "z_p = pulp.LpVariable.dicts(\"z_p\", [(e, c) for e in edges for c in subcircuits], cat=\"Binary\")\n",
    "\n",
    "# z_o[e, c]: variabile binaria per il prodotto relativo a o[c]\n",
    "z_o = pulp.LpVariable.dicts(\"z_o\", [(e, c) for e in edges for c in subcircuits], cat=\"Binary\")\n",
    "\n",
    "# y[v, c], x[e, c] sono binarie che rappresentano la struttura del circuito e i tagli\n",
    "# a[c], p[c], o[c], f[c] e d[c] sono variabili intere che descrivono i parametri del sottocircuito\n",
    "# z_p e z_o sono variabili ausiliarie per linearizzare i prodotti"
   ]
  },
  {
   "cell_type": "markdown",
   "metadata": {},
   "source": [
    "## Definizione dei vincoli principali del problema"
   ]
  },
  {
   "cell_type": "code",
   "execution_count": 23,
   "metadata": {},
   "outputs": [],
   "source": [
    "# vincoli sui sottocircuiti\n",
    "for c in subcircuits:\n",
    "    problem += a[c] == pulp.lpSum(vertex_weights[v] * y[v, c] for v in vertices), f\"Qbits_Originali_Sottocircuito_{c}\"\n",
    "    problem += o[c] == pulp.lpSum(z_o[(e, c)] for e in edges), f\"Qbits_Misurazione_Sottocircuito_{c}\"\n",
    "    problem += f[c] == a[c] + p[c] - o[c], f\"Qbits_Contribuenti_Sottocircuito_{c}\"\n",
    "    problem += d[c] == a[c] + p[c], f\"Numero_totale_qbit_Input_Sottocircuito_{c}\"\n",
    "    problem += p[c] == pulp.lpSum(z_p[(e, c)] for e in edges), f\"Qbits_Inizializzazione_Sottocircuito_{c}\"\n",
    "    problem += d[c] <= max_qubits_per_subcircuit, f\"Qbit_inferiore_a_nc_{c}\"\n",
    "\n",
    "# vincoli di linearizzazione per i prodotti\n",
    "for e in edges:\n",
    "    for c in subcircuits:\n",
    "        # linearizzazione per x[e, c] * y[e[1], c] (qubit di inizializzazione)\n",
    "        problem += z_p[(e, c)] <= x[(e, c)], f\"p_Linearizzazione1_{e}_{c}\"\n",
    "        problem += z_p[(e, c)] <= y[(e[1], c)], f\"p_Linearizzazione2_{e}_{c}\"\n",
    "        problem += z_p[(e, c)] >= x[(e, c)] + y[(e[1], c)] - 1, f\"p_Linearizzazione3_{e}_{c}\"\n",
    "\n",
    "        # linearizzazione di x[e, c] * y[e[0], c] (qubit di misurazione)\n",
    "        problem += z_o[(e, c)] <= x[(e, c)], f\"O_Linearizzazione1_{e}_{c}\"\n",
    "        problem += z_o[(e, c)] <= y[(e[0], c)], f\"O_Linearizzazione2_{e}_{c}\"\n",
    "        problem += z_o[(e, c)] >= x[(e, c)] + y[(e[0], c)] - 1, f\"O_Linearizzazione3_{e}_{c}\"\n",
    "\n",
    "# ogni vertice deve appartenere a un unico sottocircuito\n",
    "for v in vertices:\n",
    "    problem += pulp.lpSum(y[v, c] for c in subcircuits) == 1, f\"Unico_Sottocircuito_Per_Vertice_{v}\"\n",
    "\n",
    "# vincoli sugli archi nei sottocircuiti\n",
    "for c in subcircuits:\n",
    "    for e in edges:\n",
    "        problem += x[e, c] <= y[e[0], c] + y[e[1], c], f\"Vincolo_11.1_{c}_{e}\"\n",
    "        problem += x[e, c] >= y[e[0], c] - y[e[1], c], f\"Vincolo_11.2_{c}_{e}\"\n",
    "        problem += x[e, c] >= y[e[1], c] - y[e[0], c], f\"Vincolo_11.3_{c}_{e}\"\n",
    "        problem += x[e, c] <= 2 - y[e[0], c] - y[e[1], c], f\"Vincolo_11.4_{c}_{e}\"\n",
    "\n",
    "# vincolo di ordine sui sottocircuiti\n",
    "for k in range(num_subcircuits):\n",
    "    problem += pulp.lpSum(y[k, j] for j in range(k + 1, num_subcircuits)) == 0, f\"Vincolo_Sottocircuito_{k}\"\n"
   ]
  },
  {
   "cell_type": "markdown",
   "metadata": {},
   "source": [
    "## Funzione obiettivo\n",
    "\n",
    "in realtà la funzione obiettivo non è questa ma quella che serve a minimizzare \n",
    "il tempo di post-processing ([14] nel paper). Non so come rappresentare la funzione perchè non lineare.\n",
    "Una mia idea era approssimare il valore di K, magari calcolare il  K solo in determinati\n",
    "punti per approssimare 4^K mentre per quanto riguarda la produttoria non ne ho idea\n"
   ]
  },
  {
   "cell_type": "code",
   "execution_count": null,
   "metadata": {},
   "outputs": [
    {
     "data": {
      "text/plain": [
       "1"
      ]
     },
     "execution_count": 24,
     "metadata": {},
     "output_type": "execute_result"
    }
   ],
   "source": [
    "# definizione della funzione obiettivo\n",
    "K = pulp.lpSum(x[e, c] for c in subcircuits for e in edges) / 2\n",
    "problem += K, f'Minimizza_Tagli'\n",
    "problem.solve()"
   ]
  },
  {
   "cell_type": "markdown",
   "metadata": {},
   "source": [
    "## Stampa del risultato"
   ]
  },
  {
   "cell_type": "code",
   "execution_count": 25,
   "metadata": {},
   "outputs": [
    {
     "name": "stdout",
     "output_type": "stream",
     "text": [
      "Status: Optimal\n",
      "\n",
      "Obiettivo (numero di tagli / 2): 2.0\n",
      "\n",
      "\n",
      "Assegnazione dei vertici ai sottocircuiti:\n",
      "\n",
      "  Vertice 0 assegnato al sottocircuito 0\n",
      "\n",
      "  Vertice 1 assegnato al sottocircuito 0\n",
      "\n",
      "  Vertice 2 assegnato al sottocircuito 0\n",
      "\n",
      "  Vertice 3 assegnato al sottocircuito 0\n",
      "\n",
      "  Vertice 4 assegnato al sottocircuito 2\n",
      "\n",
      "  Vertice 5 assegnato al sottocircuito 2\n",
      "\n",
      "  Vertice 6 assegnato al sottocircuito 2\n",
      "\n",
      "  Vertice 7 assegnato al sottocircuito 1\n",
      "\n",
      "  Vertice 8 assegnato al sottocircuito 1\n",
      "\n",
      "  Vertice 9 assegnato al sottocircuito 1\n",
      "\n",
      "\n",
      "Tagli sugli archi:\n",
      "\n",
      "  Arco (3, 4) tagliato dal sottocircuito 0\n",
      "\n",
      "  Arco (3, 4) tagliato dal sottocircuito 2\n",
      "\n",
      "  Arco (6, 7) tagliato dal sottocircuito 1\n",
      "\n",
      "  Arco (6, 7) tagliato dal sottocircuito 2\n",
      "\n",
      "\n",
      "Valori delle variabili di qubit per sottocircuito:\n",
      "\n",
      "  Sottocircuito 0:\n",
      "\n",
      "    a[0] = 4.0  (Qubit originali inclusi)\n",
      "\n",
      "    p[0] = 0.0  (Qubit di inizializzazione)\n",
      "\n",
      "    o[0] = 1.0  (Qubit misurati in uscita)\n",
      "\n",
      "    f[0] = 3.0  (Qubit che contribuiscono alla misura finale)\n",
      "\n",
      "    d[0] = 4.0  (Totale qubit in input = a[0] + p[0])\n",
      "\n",
      "  Sottocircuito 1:\n",
      "\n",
      "    a[1] = 3.0  (Qubit originali inclusi)\n",
      "\n",
      "    p[1] = 1.0  (Qubit di inizializzazione)\n",
      "\n",
      "    o[1] = 0.0  (Qubit misurati in uscita)\n",
      "\n",
      "    f[1] = 4.0  (Qubit che contribuiscono alla misura finale)\n",
      "\n",
      "    d[1] = 4.0  (Totale qubit in input = a[1] + p[1])\n",
      "\n",
      "  Sottocircuito 2:\n",
      "\n",
      "    a[2] = 3.0  (Qubit originali inclusi)\n",
      "\n",
      "    p[2] = 1.0  (Qubit di inizializzazione)\n",
      "\n",
      "    o[2] = 1.0  (Qubit misurati in uscita)\n",
      "\n",
      "    f[2] = 3.0  (Qubit che contribuiscono alla misura finale)\n",
      "\n",
      "    d[2] = 4.0  (Totale qubit in input = a[2] + p[2])\n",
      "\n"
     ]
    }
   ],
   "source": [
    "\n",
    "print(f\"Status: {pulp.LpStatus[problem.status]}\\n\")\n",
    "print(f\"Obiettivo (numero di tagli / 2): {pulp.value(problem.objective)}\\n\\n\")\n",
    "\n",
    "print(\"Assegnazione dei vertici ai sottocircuiti:\\n\")\n",
    "for v in vertices:\n",
    "    for c in subcircuits:\n",
    "        if pulp.value(y[(v, c)]) == 1:\n",
    "            print(f\"  Vertice {v} assegnato al sottocircuito {c}\\n\")\n",
    "\n",
    "print(\"\\nTagli sugli archi:\\n\")\n",
    "for e in edges:\n",
    "    for c in subcircuits:\n",
    "        if pulp.value(x[(e, c)]) == 1:\n",
    "            print(f\"  Arco {e} tagliato dal sottocircuito {c}\\n\")\n",
    "\n",
    "print(\"\\nValori delle variabili di qubit per sottocircuito:\\n\")\n",
    "for c in subcircuits:\n",
    "    a_val = pulp.value(a[c])\n",
    "    p_val = pulp.value(p[c])\n",
    "    o_val = pulp.value(o[c])\n",
    "    f_val = pulp.value(f[c])\n",
    "    d_val = pulp.value(d[c])\n",
    "    print(f\"  Sottocircuito {c}:\\n\")\n",
    "    print(f\"    a[{c}] = {a_val}  (Qubit originali inclusi)\\n\")\n",
    "    print(f\"    p[{c}] = {p_val}  (Qubit di inizializzazione)\\n\")\n",
    "    print(f\"    o[{c}] = {o_val}  (Qubit misurati in uscita)\\n\")\n",
    "    print(f\"    f[{c}] = {f_val}  (Qubit che contribuiscono alla misura finale)\\n\")\n",
    "    print(f\"    d[{c}] = {d_val}  (Totale qubit in input = a[{c}] + p[{c}])\\n\")\n",
    "\n"
   ]
  }
 ],
 "metadata": {
  "kernelspec": {
   "display_name": "Python 3",
   "language": "python",
   "name": "python3"
  },
  "language_info": {
   "codemirror_mode": {
    "name": "ipython",
    "version": 3
   },
   "file_extension": ".py",
   "mimetype": "text/x-python",
   "name": "python",
   "nbconvert_exporter": "python",
   "pygments_lexer": "ipython3",
   "version": "3.13.1"
  }
 },
 "nbformat": 4,
 "nbformat_minor": 2
}
