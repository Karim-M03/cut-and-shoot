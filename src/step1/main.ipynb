{
 "cells": [
  {
   "cell_type": "markdown",
   "id": "ebf03c7d",
   "metadata": {},
   "source": [
    "## Definizione della classe QPU\n",
    "Questa classe rappresenta una QPU con nome, tempo di esecuzione e tempo di coda."
   ]
  },
  {
   "cell_type": "code",
   "execution_count": 5,
   "id": "70d9cff6-df9a-4855-b0e7-a4de48938c8a",
   "metadata": {},
   "outputs": [],
   "source": [
    "class QPU: \n",
    "    def __init__(self, nome, tempo_di_esecuzione, tempo_di_coda):\n",
    "        self.nome = nome\n",
    "        self.tempo_di_esecuzione = tempo_di_esecuzione\n",
    "        self.tempo_di_coda = tempo_di_coda"
   ]
  },
  {
   "cell_type": "markdown",
   "id": "d62e5bfd",
   "metadata": {},
   "source": [
    "## Inizializzazione delle QPU\n",
    "Qui creiamo una lista di QPU con i rispettivi tempi di esecuzione e di coda."
   ]
  },
  {
   "cell_type": "code",
   "execution_count": 6,
   "id": "3a05ff0f",
   "metadata": {},
   "outputs": [],
   "source": [
    "nomi = ['qpu_1', 'qpu_2', 'qpu_3', 'qpu_4', 'qpu_5',]\n",
    "tempo_di_esecuzione = [10, 20, 15, 30, 10]\n",
    "tempo_di_coda = [200, 30, 20, 1, 3]\n",
    "qpus = []\n",
    "\n",
    "for i in range(len(nomi)):\n",
    "    qpus.append(QPU(nomi[i], tempo_di_esecuzione[i], tempo_di_coda[i]))"
   ]
  },
  {
   "cell_type": "markdown",
   "id": "7a242ead",
   "metadata": {},
   "source": [
    "## Formulazione e risoluzione del problema\n",
    "L'obiettivo è minimizzare il `tempo_di_coda + tempo_di_esecuzione` per le QPU selezionandone solo una"
   ]
  },
  {
   "cell_type": "code",
   "execution_count": 7,
   "id": "d038a3bc",
   "metadata": {},
   "outputs": [
    {
     "data": {
      "text/plain": [
       "1"
      ]
     },
     "execution_count": 7,
     "metadata": {},
     "output_type": "execute_result"
    }
   ],
   "source": [
    "from pulp import *\n",
    "\n",
    "step_1_prob = pulp.LpProblem('Minimizzare_tempo_coda_+_tempo_di_esecuzione', pulp.const.LpMinimize) # definizione del problema\n",
    "x = LpVariable.dicts('x', [qpu.nome for qpu in qpus], cat='Binary') # variabili binarie per selezionare una sola QPU\n",
    "step_1_prob += lpSum((qpu.tempo_di_esecuzione + qpu.tempo_di_coda) * x[qpu.nome] for qpu in qpus) # funzione obiettivo\n",
    "step_1_prob += lpSum(x[qpu.nome] for qpu in qpus) == 1  # vincolo di unicità\n",
    "step_1_prob.solve() # risoluzione del problema"
   ]
  },
  {
   "cell_type": "markdown",
   "id": "f3911eb4",
   "metadata": {},
   "source": [
    "## Stampa dei risultati"
   ]
  },
  {
   "cell_type": "code",
   "execution_count": 8,
   "id": "e953e72b",
   "metadata": {},
   "outputs": [
    {
     "name": "stdout",
     "output_type": "stream",
     "text": [
      "Risultati:\n",
      "qpu_1: Non selezionata\n",
      "qpu_2: Non selezionata\n",
      "qpu_3: Non selezionata\n",
      "qpu_4: Non selezionata\n",
      "qpu_5: Selezionata\n",
      "Tempo totale minimo: 13.0\n"
     ]
    }
   ],
   "source": [
    "print(\"Risultati:\")\n",
    "for qpu in qpus:\n",
    "    print(f\"{qpu.nome}: {'Selezionata' if x[qpu.nome].value() == 1 else 'Non selezionata'}\")\n",
    "\n",
    "print(f\"Tempo totale minimo: {value(step_1_prob.objective)}\")"
   ]
  }
 ],
 "metadata": {
  "kernelspec": {
   "display_name": "Python 3",
   "language": "python",
   "name": "python3"
  },
  "language_info": {
   "codemirror_mode": {
    "name": "ipython",
    "version": 3
   },
   "file_extension": ".py",
   "mimetype": "text/x-python",
   "name": "python",
   "nbconvert_exporter": "python",
   "pygments_lexer": "ipython3",
   "version": "3.13.1"
  }
 },
 "nbformat": 4,
 "nbformat_minor": 5
}
